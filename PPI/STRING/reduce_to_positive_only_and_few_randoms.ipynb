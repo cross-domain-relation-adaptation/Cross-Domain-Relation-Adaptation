{
 "cells": [
  {
   "cell_type": "code",
   "execution_count": 14,
   "metadata": {},
   "outputs": [],
   "source": [
    "import h5py\n",
    "import pathlib\n",
    "import numpy as np\n",
    "import tqdm"
   ]
  },
  {
   "cell_type": "code",
   "execution_count": 2,
   "metadata": {},
   "outputs": [
    {
     "data": {
      "text/plain": [
       "[<HDF5 file \"protein.pairs.g500.fromorg.virushost.v10.5.h5\" (mode r)>,\n",
       " <HDF5 file \"protein.pairs.viruses.v10.5.h5\" (mode r)>,\n",
       " <HDF5 file \"protein.pairs.hosts.v10.5.h5\" (mode r)>]"
      ]
     },
     "execution_count": 2,
     "metadata": {},
     "output_type": "execute_result"
    }
   ],
   "source": [
    "pairs_files = list(map(lambda x: h5py.File(x, 'r'), pathlib.Path('./').rglob('./**/*pairs*.h5')))\n",
    "pairs_files"
   ]
  },
  {
   "cell_type": "code",
   "execution_count": 3,
   "metadata": {},
   "outputs": [],
   "source": [
    "full_seq_file = h5py.File('./full.protein.sequences.v10.5.h5', 'r')"
   ]
  },
  {
   "cell_type": "code",
   "execution_count": 1,
   "metadata": {},
   "outputs": [],
   "source": [
    "# !rm protein.sequences.v10.5.h5"
   ]
  },
  {
   "cell_type": "code",
   "execution_count": 4,
   "metadata": {
    "scrolled": true
   },
   "outputs": [],
   "source": [
    "rel = []\n",
    "for f in pairs_files:\n",
    "    p = f['pairs'][:]\n",
    "    rel.extend(p // (2**32))\n",
    "    rel.extend(p % (2**32))\n",
    "rel.extend(np.random.randint(full_seq_file['is_virus'].shape[0], size=100000))\n",
    "rel = np.array(rel)\n",
    "rel = np.unique(rel)\n",
    "rel.sort()"
   ]
  },
  {
   "cell_type": "code",
   "execution_count": 5,
   "metadata": {},
   "outputs": [],
   "source": [
    "f = h5py.File('protein.sequences.v10.5.h5', 'w')"
   ]
  },
  {
   "cell_type": "code",
   "execution_count": 6,
   "metadata": {
    "scrolled": true
   },
   "outputs": [
    {
     "data": {
      "text/plain": [
       "<HDF5 dataset \"is_virus\": shape (9660620,), type \"|b1\">"
      ]
     },
     "execution_count": 6,
     "metadata": {},
     "output_type": "execute_result"
    }
   ],
   "source": [
    "f.create_dataset('is_virus', \n",
    "                 compression='gzip', compression_opts=7, \n",
    "                 data=full_seq_file['is_virus'][:])"
   ]
  },
  {
   "cell_type": "code",
   "execution_count": 7,
   "metadata": {},
   "outputs": [
    {
     "data": {
      "text/plain": [
       "<HDF5 dataset \"seq_len\": shape (9660620,), type \"<i4\">"
      ]
     },
     "execution_count": 7,
     "metadata": {},
     "output_type": "execute_result"
    }
   ],
   "source": [
    "seq_len = np.array(full_seq_file['seq_len'][:]).copy().astype(np.int32)\n",
    "seq_len_rel = seq_len[rel]\n",
    "seq_len[:] = 0\n",
    "seq_len[rel] = seq_len_rel\n",
    "f.create_dataset('seq_len', \n",
    "                 compression='gzip', compression_opts=7,\n",
    "                 data=seq_len)"
   ]
  },
  {
   "cell_type": "code",
   "execution_count": 8,
   "metadata": {
    "scrolled": true
   },
   "outputs": [
    {
     "data": {
      "text/plain": [
       "<HDF5 dataset \"seq_start\": shape (9660620,), type \"<i8\">"
      ]
     },
     "execution_count": 8,
     "metadata": {},
     "output_type": "execute_result"
    }
   ],
   "source": [
    "seq_start = f['seq_len'][:]\n",
    "seq_start[1:] = seq_start[:-1]\n",
    "seq_start[0] = 0\n",
    "seq_start = seq_start.cumsum()\n",
    "f.create_dataset('seq_start', \n",
    "                 compression='gzip', compression_opts=7, \n",
    "                 data=seq_start)"
   ]
  },
  {
   "cell_type": "code",
   "execution_count": 12,
   "metadata": {},
   "outputs": [],
   "source": [
    "str_all = full_seq_file['seqs']\n",
    "ss = full_seq_file['seq_start']\n",
    "sl = full_seq_file['seq_len']\n",
    "def get(i): return str_all[ss[i]:ss[i]+sl[i]]"
   ]
  },
  {
   "cell_type": "code",
   "execution_count": 16,
   "metadata": {},
   "outputs": [
    {
     "name": "stderr",
     "output_type": "stream",
     "text": [
      "100%|██████████| 115247/115247 [00:39<00:00, 2952.77it/s]\n"
     ]
    },
    {
     "data": {
      "text/plain": [
       "(45309396,)"
      ]
     },
     "execution_count": 16,
     "metadata": {},
     "output_type": "execute_result"
    }
   ],
   "source": [
    "rel_str = [get(i) for i in tqdm.tqdm(rel)]\n",
    "rel_str = np.concatenate(rel_str)\n",
    "rel_str.shape"
   ]
  },
  {
   "cell_type": "code",
   "execution_count": 17,
   "metadata": {},
   "outputs": [
    {
     "data": {
      "text/plain": [
       "<HDF5 dataset \"seqs\": shape (45309396,), type \"|S1\">"
      ]
     },
     "execution_count": 17,
     "metadata": {},
     "output_type": "execute_result"
    }
   ],
   "source": [
    "f.create_dataset('seqs', \n",
    "                 compression='gzip', compression_opts=7,\n",
    "                 data=rel_str)"
   ]
  },
  {
   "cell_type": "code",
   "execution_count": null,
   "metadata": {},
   "outputs": [
    {
     "name": "stderr",
     "output_type": "stream",
     "text": [
      " 64%|██████▎   | 73318/115247 [01:03<00:43, 965.91it/s] "
     ]
    }
   ],
   "source": [
    "str_all1 = f['seqs']\n",
    "ss1 = f['seq_start']\n",
    "sl1 = f['seq_len']\n",
    "def get1(i): return str_all1[ss1[i]:ss1[i]+sl1[i]]\n",
    "for i in tqdm.tqdm(rel):\n",
    "    assert (get(i) == get1(i)).all()"
   ]
  },
  {
   "cell_type": "code",
   "execution_count": null,
   "metadata": {},
   "outputs": [],
   "source": [
    "del f"
   ]
  },
  {
   "cell_type": "code",
   "execution_count": null,
   "metadata": {},
   "outputs": [],
   "source": [
    "!ls -lh"
   ]
  }
 ],
 "metadata": {
  "kernelspec": {
   "display_name": "Python 3",
   "language": "python",
   "name": "python3"
  },
  "language_info": {
   "codemirror_mode": {
    "name": "ipython",
    "version": 3
   },
   "file_extension": ".py",
   "mimetype": "text/x-python",
   "name": "python",
   "nbconvert_exporter": "python",
   "pygments_lexer": "ipython3",
   "version": "3.6.8"
  }
 },
 "nbformat": 4,
 "nbformat_minor": 4
}
